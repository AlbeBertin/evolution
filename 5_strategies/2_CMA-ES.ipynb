{
 "cells": [
  {
   "cell_type": "markdown",
   "metadata": {
    "slideshow": {
     "slide_type": "slide"
    }
   },
   "source": [
    "<img src=\"../imgs/logo.png\" width=\"20%\" align=\"right\" style=\"margin:0px 20px\">\n",
    "\n",
    "\n",
    "# Evolutionary Computation\n",
    "\n",
    "## 5.2 CMA-ES\n",
    "\n",
    "<a rel=\"license\" href=\"http://creativecommons.org/licenses/by-sa/4.0/\"><img alt=\"Creative Commons License\" align=\"left\" src=\"https://i.creativecommons.org/l/by-sa/4.0/80x15.png\" /></a>&nbsp;| Dennis G. Wilson | <a href=\"https://d9w.github.io/evolution/\">https://d9w.github.io/evolution/</a>"
   ]
  },
  {
   "cell_type": "markdown",
   "metadata": {
    "slideshow": {
     "slide_type": "slide"
    }
   },
   "source": [
    "# CMA-ES\n",
    "\n",
    "In this section, we'll discuss the Covariance Matrix Adaptation Evolutionary Strategy, or CMA-ES [1, 2]. This is one of the most well-known evolutionary algorithms in general and is a state-of-the-art algorithm for continuous optimization. The strength of this method is that it adapts the distribution it uses to generate the next population based on the current distribution of individuals. In the previous section, we were limited to a Normal distribution with a fixed $\\sigma$. The adaptive distribution of CMA-ES means it will cross search spaces faster and narrow in more exactly on optimal points.\n",
    "\n",
    "[1] Hansen, Nikolaus, and Andreas Ostermeier. \"Adapting arbitrary normal mutation distributions in evolution strategies: The covariance matrix adaptation.\" Proceedings of IEEE international conference on evolutionary computation. IEEE, 1996.\n",
    "\n",
    "[2] Hansen, Nikolaus, and Andreas Ostermeier. \"Completely derandomized self-adaptation in evolution strategies.\" Evolutionary computation 9.2 (2001): 159-195."
   ]
  },
  {
   "cell_type": "markdown",
   "metadata": {
    "slideshow": {
     "slide_type": "slide"
    }
   },
   "source": [
    "Let's go through a simplified version of the algorithm from [3]. There are improvements to CMA-ES beyond this basic framework, but that's beyond the scope of today. [4] provides a good review of different CMA-ES modifications.\n",
    "\n",
    "[3] Hans-Georg Beyer (2007) Evolution strategies. Scholarpedia, 2(8):1965.\n",
    "\n",
    "[4] Hansen, Nikolaus. \"The CMA evolution strategy: a comparing review.\" Towards a new evolutionary computation. Springer, Berlin, Heidelberg, 2006. 75-102."
   ]
  },
  {
   "cell_type": "markdown",
   "metadata": {
    "slideshow": {
     "slide_type": "slide"
    }
   },
   "source": [
    "We'll start by creating a random individual $\\mathbf{y}$ which will be our first expert. We also create a diagonal covariance matrix $\\mathbf{C}$."
   ]
  },
  {
   "cell_type": "markdown",
   "metadata": {
    "slideshow": {
     "slide_type": "fragment"
    }
   },
   "source": [
    "$\\mbox{(L1):} \\quad \n",
    "  \\forall l=1, \\ldots, \\lambda : \\;\\;\n",
    "  \\begin{cases}\n",
    "   & \\mathbf{w}_l \n",
    "          \\leftarrow \\sigma \\sqrt{ \\mathbf{C} } \\,\n",
    "          \\mathbf{N}_l(\\mathbf{0}, \\mathbf{1}),\\\\[2mm]\n",
    "   & \\mathbf{y}_l \\leftarrow \\mathbf{y}  + \\mathbf{w}_l, \\\\[2mm]\n",
    "   & F_l \\leftarrow F(\\mathbf{y}_l),\n",
    "  \\end{cases}$"
   ]
  },
  {
   "cell_type": "markdown",
   "metadata": {
    "slideshow": {
     "slide_type": "fragment"
    }
   },
   "source": [
    "In the first step, (L1), $\\lambda$ offspring $\\mathbf{y}_l$ are created by transforming standard normally distributed random vectors using a transformation matrix $\\sqrt{\\mathbf{C}}$ which is given by Cholesky decomposition of the covariance matrix $\\mathbf{C}$ and the global step size factor $\\sigma$. We also evaluate every individual, creating $F$."
   ]
  },
  {
   "cell_type": "markdown",
   "metadata": {
    "slideshow": {
     "slide_type": "fragment"
    }
   },
   "source": [
    "$\\mbox{(L2):} \\quad \n",
    "      \\mathbf{y} \\leftarrow \\mathbf{y} + \\langle \\mathbf{w} \\rangle$"
   ]
  },
  {
   "cell_type": "markdown",
   "metadata": {
    "slideshow": {
     "slide_type": "fragment"
    }
   },
   "source": [
    "In (L2) the best $\\mu$ mutations are recombined forming the recombinant $\\mathbf{y}$ (center of mass individual) for the next generation. "
   ]
  },
  {
   "cell_type": "markdown",
   "metadata": {
    "slideshow": {
     "slide_type": "slide"
    }
   },
   "source": [
    "$\\mbox{(L3):} \\quad \n",
    "            \\mathbf{s} \\leftarrow \\left(1-\\frac{1}{\\tau}\\right)\\mathbf{s}\n",
    "          + \\sqrt{\\frac{\\mu}{\\tau} \\left(2-\\frac{1}{\\tau}\\right)} \\,\n",
    "            \\frac{\\langle \\mathbf{w} \\rangle}{\\sigma}$"
   ]
  },
  {
   "cell_type": "markdown",
   "metadata": {
    "slideshow": {
     "slide_type": "fragment"
    }
   },
   "source": [
    "Vector $\\langle \\mathbf{w} \\rangle$ combines individuals from two consecutive generations so $\\langle \\mathbf{w} \\rangle/\\sigma$ represents the tendency of evolution in the search space. In (L3), this information is cumulated in the $\\mathbf{s}$ vector, which exponentially decays with the time constant $\\tau$. A good default for this is $\\tau=\\sqrt{n}$."
   ]
  },
  {
   "cell_type": "markdown",
   "metadata": {
    "slideshow": {
     "slide_type": "fragment"
    }
   },
   "source": [
    "$\\mbox{(L4):} \\quad \n",
    "      \\mathbf{C} \\leftarrow \n",
    "      \\left(1-\\frac{1}{\\tau_{\\mathrm{c}}}\\right)\\mathbf{C}\n",
    "              + \\frac{1}{\\tau_{\\mathrm{c}}} \\mathbf{s} \\mathbf{s}^T$"
   ]
  },
  {
   "cell_type": "markdown",
   "metadata": {
    "slideshow": {
     "slide_type": "fragment"
    }
   },
   "source": [
    "In (L4), the direction vector $\\mathbf{s}$ is used to update the covariance matrix $\\mathbf{C}$ with time constant $\\tau_{\\mathrm{c}} \\propto n^2$"
   ]
  },
  {
   "cell_type": "markdown",
   "metadata": {
    "slideshow": {
     "slide_type": "slide"
    }
   },
   "source": [
    "$\\mbox{(L5):} \\quad  \n",
    "       \\mathbf{s}_\\sigma\n",
    "       \\leftarrow \\left(1-\\frac{1}{\\tau_\\sigma}\\right) \\mathbf{s}_\\sigma\n",
    "                  + \\sqrt{\\frac{\\mu}{\\tau_\\sigma}\n",
    "                    \\left(2-\\frac{1}{\\tau_\\sigma}\\right)} \\,\n",
    "                      \\langle \\mathbf{N}(\\mathbf{0}, \\mathbf{1}) \\rangle$"
   ]
  },
  {
   "cell_type": "markdown",
   "metadata": {
    "slideshow": {
     "slide_type": "slide"
    }
   },
   "source": [
    "$\\mbox{(L6):} \\quad  \n",
    "      \\sigma \\leftarrow \\sigma\\exp\\left[\n",
    "                        \\frac{\\| \\mathbf{s}_{\\sigma} \\|^2 - n}\n",
    "                                   {2 n \\sqrt{n} }\n",
    "                                        \\right]$"
   ]
  },
  {
   "cell_type": "markdown",
   "metadata": {
    "slideshow": {
     "slide_type": "fragment"
    }
   },
   "source": [
    "The distribution standard deviation $\\sigma$ is then calculated in (L5) and (L6) using the cumulated step size adaptation (CSA) technique with time constant $\\tau_\\sigma = \\sqrt{n}$ (initially $\\mathbf{s}_\\sigma = \\mathbf{0}$). $\\langle \\mathbf{N}(\\mathbf{0}, \\mathbf{1}) \\rangle$ is the distribution we calculated in (L1). "
   ]
  },
  {
   "cell_type": "markdown",
   "metadata": {
    "slideshow": {
     "slide_type": "slide"
    }
   },
   "source": [
    "So instead of simply using a Normal distribution to create the next generation, CMA-ES transforms a normal distribution by the covariance matrix $\\mathbf{C}$. It also moves at self-adjusting $\\sigma$. This makes its movement around the search space much more effective, as it is informed by the shape of the search space given through the fitness values $F$."
   ]
  },
  {
   "cell_type": "markdown",
   "metadata": {
    "slideshow": {
     "slide_type": "fragment"
    }
   },
   "source": [
    "Let's see an example of that."
   ]
  },
  {
   "cell_type": "code",
   "execution_count": 1,
   "metadata": {
    "slideshow": {
     "slide_type": "slide"
    }
   },
   "outputs": [],
   "source": [
    "using Random\n",
    "using LinearAlgebra\n",
    "using Statistics\n",
    "using Plots"
   ]
  },
  {
   "cell_type": "code",
   "execution_count": 2,
   "metadata": {
    "slideshow": {
     "slide_type": "fragment"
    }
   },
   "outputs": [
    {
     "data": {
      "text/plain": [
       "sphere (generic function with 1 method)"
      ]
     },
     "execution_count": 2,
     "metadata": {},
     "output_type": "execute_result"
    }
   ],
   "source": [
    "solution = [3.5, -0.2]\n",
    "sphere(x::Array{Float64}) = sum((x .- solution).^2)\n",
    "himmelblau(x::Array{Float64}) = (x[1]^2 + x[2] - 11)^2 + (x[1] + x[2]^2 - 7)^2\n",
    "styblinski_tang(x::Array{Float64}) = sum(x.^4 .- 16 .* x.^2 .+ 5 .* x) / 2.0\n",
    "rastrigin(x::Array{Float64}) = 10.0 * length(x) .+ sum((x .- solution).^2 .- 10 .* cos.(2*pi.*(x .- solution)))\n",
    "objective = sphere"
   ]
  },
  {
   "cell_type": "markdown",
   "metadata": {
    "slideshow": {
     "slide_type": "slide"
    }
   },
   "source": [
    "As with last time, we'll optimize over 2 continuous variables. We'll set default values of the time constants based on $N$. These are recommended values for CMA-ES [5]\n",
    "\n",
    "[5] Hansen, Nikolaus, Sibylle D. Müller, and Petros Koumoutsakos. \"Reducing the time complexity of the derandomized evolution strategy with covariance matrix adaptation (CMA-ES).\" Evolutionary computation 11.1 (2003): 1-18."
   ]
  },
  {
   "cell_type": "code",
   "execution_count": 3,
   "metadata": {
    "slideshow": {
     "slide_type": "fragment"
    }
   },
   "outputs": [],
   "source": [
    "N = 2\n",
    "μ = 5\n",
    "λ = 10\n",
    "τ = sqrt(N)\n",
    "τ_c = N^2\n",
    "τ_σ = sqrt(N);"
   ]
  },
  {
   "cell_type": "markdown",
   "metadata": {
    "slideshow": {
     "slide_type": "slide"
    }
   },
   "source": [
    "Now let's make our random expert and create placeholder fitness and offspring vectors."
   ]
  },
  {
   "cell_type": "code",
   "execution_count": 4,
   "metadata": {
    "slideshow": {
     "slide_type": "fragment"
    }
   },
   "outputs": [],
   "source": [
    "y = randn(N)\n",
    "offspring = Array{Array{Float64}}(undef, λ)\n",
    "F = Inf .* ones(λ);"
   ]
  },
  {
   "cell_type": "markdown",
   "metadata": {
    "slideshow": {
     "slide_type": "fragment"
    }
   },
   "source": [
    "Finally, we need to initialize $\\mathbf{C}, \\mathbf{N}, \\mathbf{w}, \\mathbf{s}, \\mathbf{s_\\sigma},$ and $\\mathbf{\\sigma}$."
   ]
  },
  {
   "cell_type": "code",
   "execution_count": 5,
   "metadata": {
    "slideshow": {
     "slide_type": "fragment"
    }
   },
   "outputs": [],
   "source": [
    "C = Diagonal{Float64}(I, N)\n",
    "W = zeros(N, λ)\n",
    "s = zeros(N)\n",
    "s_σ = zeros(N)\n",
    "σ = 1.0\n",
    "E = zeros(N, λ);"
   ]
  },
  {
   "cell_type": "markdown",
   "metadata": {
    "slideshow": {
     "slide_type": "slide"
    }
   },
   "source": [
    "Step 1: We calculate the offspring distribution $\\mathbf{w}$ then center it at the center-of-mass individual $\\mathbf{y}$."
   ]
  },
  {
   "cell_type": "markdown",
   "metadata": {
    "slideshow": {
     "slide_type": "fragment"
    }
   },
   "source": [
    "$\\mbox{(L1):} \\quad \n",
    "  \\forall l=1, \\ldots, \\lambda : \\;\\;\n",
    "  \\begin{cases}\n",
    "   & \\mathbf{w}_l \n",
    "          \\leftarrow \\sigma \\sqrt{ \\mathbf{C} } \\,\n",
    "          \\mathbf{N}_l(\\mathbf{0}, \\mathbf{1}),\\\\[2mm]\n",
    "   & \\mathbf{y}_l \\leftarrow \\mathbf{y}  + \\mathbf{w}_l, \\\\[2mm]\n",
    "   & F_l \\leftarrow F(\\mathbf{y}_l),\n",
    "  \\end{cases}$"
   ]
  },
  {
   "cell_type": "code",
   "execution_count": 6,
   "metadata": {
    "slideshow": {
     "slide_type": "fragment"
    }
   },
   "outputs": [
    {
     "data": {
      "text/plain": [
       "2×2 Diagonal{Float64,Array{Float64,1}}:\n",
       " 1.0   ⋅ \n",
       "  ⋅   1.0"
      ]
     },
     "execution_count": 6,
     "metadata": {},
     "output_type": "execute_result"
    }
   ],
   "source": [
    "sqrt_c = cholesky((C + C') / 2.0).U"
   ]
  },
  {
   "cell_type": "markdown",
   "metadata": {
    "slideshow": {
     "slide_type": "fragment"
    }
   },
   "source": [
    "Note that our $\\mathbf{C}$ covariance matrix is currently 1, so this first distribution will just be a normal distribution without any transformation. We will then evaluate every individual."
   ]
  },
  {
   "cell_type": "code",
   "execution_count": 7,
   "metadata": {
    "slideshow": {
     "slide_type": "slide"
    }
   },
   "outputs": [],
   "source": [
    "for i in 1:λ\n",
    "    E[:,i] = randn(N)\n",
    "    W[:,i] = σ * (sqrt_c * E[:,i])\n",
    "    offspring[i] = y + W[:,i]\n",
    "    F[i] = objective(offspring[i])\n",
    "end"
   ]
  },
  {
   "cell_type": "markdown",
   "metadata": {
    "slideshow": {
     "slide_type": "fragment"
    }
   },
   "source": [
    "Now that we have evaluated the individuals, we will select a subset of them to inform the next generation. We'll simply use a truncation selection, taking the top $\\mu$ individuals."
   ]
  },
  {
   "cell_type": "code",
   "execution_count": 8,
   "metadata": {
    "slideshow": {
     "slide_type": "fragment"
    }
   },
   "outputs": [
    {
     "data": {
      "text/plain": [
       "5-element Array{Int64,1}:\n",
       "  2\n",
       "  6\n",
       " 10\n",
       "  1\n",
       "  5"
      ]
     },
     "execution_count": 8,
     "metadata": {},
     "output_type": "execute_result"
    }
   ],
   "source": [
    "idx = sortperm(F)[1:μ]"
   ]
  },
  {
   "cell_type": "markdown",
   "metadata": {
    "slideshow": {
     "slide_type": "slide"
    }
   },
   "source": [
    "Now step 2. We update $\\mathbf{y}$ using the top $\\mu$ individuals in $\\mathbf{w}$"
   ]
  },
  {
   "cell_type": "markdown",
   "metadata": {
    "slideshow": {
     "slide_type": "fragment"
    }
   },
   "source": [
    "$\\mbox{(L2):} \\quad \n",
    "      \\mathbf{y} \\leftarrow \\mathbf{y} + \\langle \\mathbf{w} \\rangle$"
   ]
  },
  {
   "cell_type": "code",
   "execution_count": 9,
   "metadata": {
    "slideshow": {
     "slide_type": "fragment"
    }
   },
   "outputs": [
    {
     "data": {
      "text/plain": [
       "2-element Array{Float64,1}:\n",
       " 1.9182064698592391\n",
       " 0.9173975957054257"
      ]
     },
     "execution_count": 9,
     "metadata": {},
     "output_type": "execute_result"
    }
   ],
   "source": [
    "w = vec(mean(W[:,idx], dims=2))\n",
    "y += w"
   ]
  },
  {
   "cell_type": "markdown",
   "metadata": {
    "slideshow": {
     "slide_type": "slide"
    }
   },
   "source": [
    "In step 3, we update the direction vector $\\mathbf{s}$."
   ]
  },
  {
   "cell_type": "markdown",
   "metadata": {
    "slideshow": {
     "slide_type": "fragment"
    }
   },
   "source": [
    "$\\mbox{(L3):} \\quad \n",
    "            \\mathbf{s} \\leftarrow \\left(1-\\frac{1}{\\tau}\\right)\\mathbf{s}\n",
    "          + \\sqrt{\\frac{\\mu}{\\tau} \\left(2-\\frac{1}{\\tau}\\right)} \\,\n",
    "            \\frac{\\langle \\mathbf{w} \\rangle}{\\sigma}$"
   ]
  },
  {
   "cell_type": "code",
   "execution_count": 10,
   "metadata": {
    "slideshow": {
     "slide_type": "fragment"
    }
   },
   "outputs": [
    {
     "data": {
      "text/plain": [
       "2-element Array{Float64,1}:\n",
       " 2.2963642472553607\n",
       " 0.780874898332342"
      ]
     },
     "execution_count": 10,
     "metadata": {},
     "output_type": "execute_result"
    }
   ],
   "source": [
    "s = (1.0 - 1.0/τ)*s + (sqrt(μ/τ * (2.0 - 1.0/τ))/σ)*w"
   ]
  },
  {
   "cell_type": "markdown",
   "metadata": {
    "slideshow": {
     "slide_type": "fragment"
    }
   },
   "source": [
    "Next we update our covariance matrix $\\mathbf{C}$. Note that it will no longer be a diagonal matrix: our next update will use a transformed distribution to generate the population."
   ]
  },
  {
   "cell_type": "markdown",
   "metadata": {
    "slideshow": {
     "slide_type": "slide"
    }
   },
   "source": [
    "$\\mbox{(L4):} \\quad \n",
    "      \\mathbf{C} \\leftarrow \n",
    "      \\left(1-\\frac{1}{\\tau_{\\mathrm{c}}}\\right)\\mathbf{C}\n",
    "              + \\frac{1}{\\tau_{\\mathrm{c}}} \\mathbf{s} \\mathbf{s}^T$"
   ]
  },
  {
   "cell_type": "code",
   "execution_count": 11,
   "metadata": {
    "slideshow": {
     "slide_type": "fragment"
    }
   },
   "outputs": [
    {
     "data": {
      "text/plain": [
       "2×2 Array{Float64,2}:\n",
       " 2.06832   0.448293\n",
       " 0.448293  0.902441"
      ]
     },
     "execution_count": 11,
     "metadata": {},
     "output_type": "execute_result"
    }
   ],
   "source": [
    "C = (1.0 - 1.0/τ_c).*C + (s./τ_c)*s'"
   ]
  },
  {
   "cell_type": "markdown",
   "metadata": {
    "slideshow": {
     "slide_type": "slide"
    }
   },
   "source": [
    "Finally, we update the $\\sigma$, which is the standard deviation of the distribution we generate in the first step. Note that its initial value was `1.0`."
   ]
  },
  {
   "cell_type": "markdown",
   "metadata": {
    "slideshow": {
     "slide_type": "fragment"
    }
   },
   "source": [
    "$\\mbox{(L5):} \\quad  \n",
    "       \\mathbf{s}_\\sigma\n",
    "       \\leftarrow \\left(1-\\frac{1}{\\tau_\\sigma}\\right) \\mathbf{s}_\\sigma\n",
    "                  + \\sqrt{\\frac{\\mu}{\\tau_\\sigma}\n",
    "                    \\left(2-\\frac{1}{\\tau_\\sigma}\\right)} \\,\n",
    "                      \\langle \\mathbf{N}(\\mathbf{0}, \\mathbf{1}) \\rangle$"
   ]
  },
  {
   "cell_type": "markdown",
   "metadata": {
    "slideshow": {
     "slide_type": "fragment"
    }
   },
   "source": [
    "$\\mbox{(L6):} \\quad  \n",
    "      \\sigma \\leftarrow \\sigma\\exp\\left[\n",
    "                        \\frac{\\| \\mathbf{s}_{\\sigma} \\|^2 - n}\n",
    "                                   {2 n \\sqrt{n} }\n",
    "                                        \\right]$"
   ]
  },
  {
   "cell_type": "code",
   "execution_count": 12,
   "metadata": {
    "slideshow": {
     "slide_type": "fragment"
    }
   },
   "outputs": [
    {
     "data": {
      "text/plain": [
       "1.9866176473138817"
      ]
     },
     "execution_count": 12,
     "metadata": {},
     "output_type": "execute_result"
    }
   ],
   "source": [
    "ɛ = vec(mean(E[:,idx], dims=2))\n",
    "s_σ = (1.0 - 1.0/τ_σ)*s_σ + sqrt(μ/τ_σ*(2.0 - 1.0/τ_σ))*ɛ\n",
    "σ = σ*exp(((s_σ'*s_σ)[1] - N)/(2*N*sqrt(N)))"
   ]
  },
  {
   "cell_type": "markdown",
   "metadata": {
    "slideshow": {
     "slide_type": "fragment"
    }
   },
   "source": [
    "That's a lot! Let's put it all together in an object and see how it runs over multiple iterations."
   ]
  },
  {
   "cell_type": "code",
   "execution_count": 13,
   "metadata": {
    "slideshow": {
     "slide_type": "slide"
    }
   },
   "outputs": [],
   "source": [
    "mutable struct CMAES\n",
    "    N::Int\n",
    "    μ::Int\n",
    "    λ::Int\n",
    "    τ::Float64\n",
    "    τ_c::Float64\n",
    "    τ_σ::Float64\n",
    "    population::Array{Array{Float64}}\n",
    "    offspring::Array{Array{Float64}}\n",
    "    F_μ::Array{Float64}\n",
    "    F_λ::Array{Float64}\n",
    "    C::Array{Float64}\n",
    "    s::Array{Float64}\n",
    "    s_σ::Array{Float64}\n",
    "    σ::Float64\n",
    "    E::Array{Float64}\n",
    "    W::Array{Float64}\n",
    "    x::Array{Float64}\n",
    "end"
   ]
  },
  {
   "cell_type": "code",
   "execution_count": 14,
   "metadata": {
    "slideshow": {
     "slide_type": "slide"
    }
   },
   "outputs": [
    {
     "data": {
      "text/plain": [
       "CMAES"
      ]
     },
     "execution_count": 14,
     "metadata": {},
     "output_type": "execute_result"
    }
   ],
   "source": [
    "function CMAES(;N=2, μ=1, λ=10, τ=sqrt(N), τ_c=N^2, τ_σ=sqrt(N))\n",
    "    x = randn(N)\n",
    "    population = fill(x, µ)\n",
    "    offspring = Array{Array{Float64}}(undef, λ)\n",
    "    F_µ = Inf .* ones(µ)\n",
    "    F_λ = Inf .* ones(λ)\n",
    "    C = Array(Diagonal{Float64}(I, N))\n",
    "    s = zeros(N)\n",
    "    s_σ = zeros(N)\n",
    "    σ = 1.0\n",
    "    E = zeros(N, λ)\n",
    "    W = zeros(N, λ);\n",
    "    CMAES(N, μ, λ, τ, τ_c, τ_σ, population, offspring, F_µ, F_λ, C, s, s_σ, σ, E, W, x)\n",
    "end"
   ]
  },
  {
   "cell_type": "code",
   "execution_count": 15,
   "metadata": {
    "scrolled": true,
    "slideshow": {
     "slide_type": "fragment"
    }
   },
   "outputs": [
    {
     "data": {
      "text/plain": [
       "CMAES(2, 1, 10, 1.4142135623730951, 4.0, 1.4142135623730951, Array{Float64,N} where N[[-0.39104647718738567, -2.279396309216862]], Array{Float64,N} where N[#undef, #undef, #undef, #undef, #undef, #undef, #undef, #undef, #undef, #undef], [Inf], [Inf, Inf, Inf, Inf, Inf, Inf, Inf, Inf, Inf, Inf], [1.0 0.0; 0.0 1.0], [0.0, 0.0], [0.0, 0.0], 1.0, [0.0 0.0 … 0.0 0.0; 0.0 0.0 … 0.0 0.0], [0.0 0.0 … 0.0 0.0; 0.0 0.0 … 0.0 0.0], [-0.39104647718738567, -2.279396309216862])"
      ]
     },
     "execution_count": 15,
     "metadata": {},
     "output_type": "execute_result"
    }
   ],
   "source": [
    "c = CMAES()"
   ]
  },
  {
   "cell_type": "code",
   "execution_count": 16,
   "metadata": {
    "slideshow": {
     "slide_type": "slide"
    }
   },
   "outputs": [
    {
     "data": {
      "text/plain": [
       "step! (generic function with 1 method)"
      ]
     },
     "execution_count": 16,
     "metadata": {},
     "output_type": "execute_result"
    }
   ],
   "source": [
    "function step!(c::CMAES; obj=objective, visualize=false, anim=Nothing)\n",
    "    # L1\n",
    "    sqrt_c = cholesky((c.C + c.C') / 2.0).U\n",
    "    for i in 1:c.λ\n",
    "        c.E[:,i] = randn(c.N)\n",
    "        c.W[:,i] = c.σ * (sqrt_c * c.E[:,i])\n",
    "        c.offspring[i] = c.x + c.W[:,i]\n",
    "        c.F_λ[i] = obj(c.offspring[i])\n",
    "    end    \n",
    "    # Select new parent population\n",
    "    idx = sortperm(c.F_λ)[1:c.μ]\n",
    "    for i in 1:c.μ\n",
    "        c.population[i] = c.offspring[idx[i]]\n",
    "        c.F_μ[i] = c.F_λ[idx[i]]\n",
    "    end    \n",
    "    # L2\n",
    "    w = vec(mean(c.W[:,idx], dims=2))\n",
    "    c.x += w    \n",
    "    # L3\n",
    "    c.s = (1.0 - 1.0/c.τ)*c.s + (sqrt(c.μ/c.τ * (2.0 - 1.0/c.τ))/c.σ)*w   \n",
    "    # L4\n",
    "    c.C = (1.0 - 1.0/c.τ_c).*c.C + (c.s./c.τ_c)*c.s'    \n",
    "    # L5\n",
    "    ɛ = vec(mean(c.E[:,idx], dims=2))\n",
    "    c.s_σ = (1.0 - 1.0/c.τ_σ)*c.s_σ + sqrt(c.μ/c.τ_σ*(2.0 - 1.0/c.τ_σ))*ɛ    \n",
    "    # L6\n",
    "    c.σ = c.σ*exp(((c.s_σ'*c.s_σ)[1] - c.N)/(2*c.N*sqrt(c.N)))\n",
    "    if visualize\n",
    "        plot(xs, ys, fz, st=:contour)\n",
    "        scatter!([c.offspring[i][1] for i in 1:λ], [c.offspring[i][2] for i in 1:λ], \n",
    "            xlims=(-5, 5), ylims=(-5, 5), legend=:none)\n",
    "        scatter!([c.x[1]], [c.x[2]], color=:black, marker=:rect,\n",
    "            xlims=(-5, 5), ylims=(-5, 5), legend=:none)\n",
    "        frame(anim)\n",
    "    end\n",
    "    c\n",
    "end"
   ]
  },
  {
   "cell_type": "code",
   "execution_count": 17,
   "metadata": {
    "slideshow": {
     "slide_type": "slide"
    }
   },
   "outputs": [
    {
     "data": {
      "text/plain": [
       "plot_obj (generic function with 1 method)"
      ]
     },
     "execution_count": 17,
     "metadata": {},
     "output_type": "execute_result"
    }
   ],
   "source": [
    "function plot_obj()\n",
    "    c = CMAES()\n",
    "    println(\"x initial: \", c.x)\n",
    "    anim = Animation()\n",
    "    for i in 1:100\n",
    "        v = mod(i, 1) == 0\n",
    "        step!(c, visualize=v, anim=anim)\n",
    "    end\n",
    "    println(\"x final: \", c.x)\n",
    "    gif(anim)\n",
    "end"
   ]
  },
  {
   "cell_type": "code",
   "execution_count": 24,
   "metadata": {
    "slideshow": {
     "slide_type": "slide"
    }
   },
   "outputs": [
    {
     "name": "stdout",
     "output_type": "stream",
     "text": [
      "[3.5, -0.2]\n",
      "x initial: [1.9645823277882146, 1.3631189285869187]\n",
      "x final: [2.505041362765418, 2.784855702052924]\n"
     ]
    },
    {
     "name": "stderr",
     "output_type": "stream",
     "text": [
      "┌ Info: Saved animation to \n",
      "│   fn = /mnt/storage/Documents/EISC-217 - Algorithmes évolutionnaires/5_strategies/tmp.gif\n",
      "└ @ Plots /home/alberic/.julia/packages/Plots/ZRCUN/src/animation.jl:102\n"
     ]
    },
    {
     "data": {
      "text/html": [
       "<img src=\"data:image/gif;base64,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\" />"
      ],
      "text/plain": [
       "Plots.AnimatedGif(\"/mnt/storage/Documents/EISC-217 - Algorithmes évolutionnaires/5_strategies/tmp.gif\")"
      ]
     },
     "execution_count": 24,
     "metadata": {},
     "output_type": "execute_result"
    }
   ],
   "source": [
    "xs = -5.0:0.1:5.0\n",
    "ys = -5.0:0.1:5.0\n",
    "\n",
    "objective = rastrigin # sphere, himmelblau, styblinski_tang, rastrigin\n",
    "fz(x, y) = objective([x, y])\n",
    "println(solution) # optimal for sphere and rastrigin\n",
    "plot_obj()"
   ]
  },
  {
   "cell_type": "markdown",
   "metadata": {
    "slideshow": {
     "slide_type": "slide"
    }
   },
   "source": [
    "<div class=\"alert alert-success\">\n",
    "    <b>Exercise</b>\n",
    "    <br/>\n",
    "    Modify the parent population size and child population of the problem. Can you get CMA-ES to reliably converge on the Rastrigin function? What about for higer dimensions of $n$? Report your $\\mu$ and $\\lambda$ values in the class chat.\n",
    "</div>    "
   ]
  },
  {
   "cell_type": "code",
   "execution_count": 72,
   "metadata": {},
   "outputs": [
    {
     "name": "stdout",
     "output_type": "stream",
     "text": [
      "0.785\n"
     ]
    }
   ],
   "source": [
    "function not_plot_obj()\n",
    "    c = CMAES(N=2, μ=7, λ=80, τ=sqrt(N), τ_c=N^2, τ_σ=sqrt(N))\n",
    "    for i in 1:100\n",
    "        step!(c, visualize=false)\n",
    "    end\n",
    "    c.x\n",
    "end\n",
    "\n",
    "niter=200\n",
    "success = 0\n",
    "for i in 1:niter\n",
    "    xfinal = not_plot_obj()\n",
    "    if (((xfinal[1]-solution[1])^2+(xfinal[2]-solution[2])^2)<1/100)\n",
    "        success+=1\n",
    "    end\n",
    "end\n",
    "println(success/niter)"
   ]
  }
 ],
 "metadata": {
  "@webio": {
   "lastCommId": null,
   "lastKernelId": null
  },
  "celltoolbar": "Slideshow",
  "kernelspec": {
   "display_name": "Julia 1.4.0",
   "language": "julia",
   "name": "julia-1.4"
  },
  "language_info": {
   "file_extension": ".jl",
   "mimetype": "application/julia",
   "name": "julia",
   "version": "1.4.0"
  }
 },
 "nbformat": 4,
 "nbformat_minor": 2
}
